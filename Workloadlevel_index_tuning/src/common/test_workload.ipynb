{
 "cells": [
  {
   "cell_type": "code",
   "execution_count": 1,
   "metadata": {},
   "outputs": [],
   "source": [
    "from tpch_workload import TPCHWorkload\n",
    "from common.sql_query import SQLQuery\n",
    "from common.sql_workload import SQLWorkload\n",
    "\n",
    "import numpy as np\n",
    "import os\n",
    "\n",
    "\n",
    "n_selections = 3\n",
    "spec ={\"tables\":['lineitem'],\"scale_factor\": 1, # TODO specify this somewhere, not just in imdb_util \n",
    "    \"n_selections\": n_selections} \n",
    "tpch_sample = TPCHWorkload(spec) \n"
   ]
  },
  {
   "cell_type": "code",
   "execution_count": 10,
   "metadata": {},
   "outputs": [
    {
     "name": "stdout",
     "output_type": "stream",
     "text": [
      "'SELECT COUNT(*) FROM lineitem WHERE L_RETURNFLAG = '%s' AND L_SUPPKEY > '%s' AND L_SHIPMODE = '%s'','L_RETURNFLAG,L_SUPPKEY,L_SHIPMODE','lineitem','[]','L_RETURNFLAG,=,L_SUPPKEY,>,L_SHIPMODE,='\n",
      "\n",
      "['L_RETURNFLAG', '=', 'L_SUPPKEY', '>', 'L_SHIPMODE', '=']\n"
     ]
    }
   ],
   "source": [
    "query = tpch_sample.generate_query_template()\n",
    "print(query.as_csv_row())\n",
    "print(query.as_tokens())"
   ]
  },
  {
   "cell_type": "code",
   "execution_count": 6,
   "metadata": {},
   "outputs": [
    {
     "data": {
      "text/plain": [
       "'/Users/wangtaiyi/Documents/Graduate/Cambridge/Research/RL/Learning_Index_Selection/index_Code/Workloadlevel_index_tuning/src/common/train'"
      ]
     },
     "execution_count": 6,
     "metadata": {},
     "output_type": "execute_result"
    }
   ],
   "source": [
    "path = os.getcwd()\n",
    "path_new = path +'/train'\n",
    "path_new"
   ]
  },
  {
   "cell_type": "code",
   "execution_count": 9,
   "metadata": {},
   "outputs": [],
   "source": [
    "import json\n",
    "import numpy as np\n",
    "\n",
    "dir = \"/Users/wangtaiyi/Documents/Graduate/Cambridge/Research/RL/Learning_Index_Selection/index_Code/Workloadlevel_index_tuning/conf\"\n",
    "\n",
    "with open(dir+'/dqn.json', 'r') as fh:\n",
    "    config = json.load(fh)"
   ]
  },
  {
   "cell_type": "code",
   "execution_count": 14,
   "metadata": {},
   "outputs": [],
   "source": [
    "dir = \"/Users/wangtaiyi/Documents/Graduate/Cambridge/Research/RL/Learning_Index_Selection/index_Code/Workloadlevel_index_tuning/conf\"\n",
    "path = dir + '/../data'\n",
    "test_path = path + '/test_workloads'\n",
    "del_list = os.listdir(test_path)"
   ]
  },
  {
   "cell_type": "code",
   "execution_count": null,
   "metadata": {},
   "outputs": [],
   "source": [
    "def read_workload_stream(size):\n",
    "    file_start_idx = 5\n",
    "    return\n"
   ]
  },
  {
   "cell_type": "code",
   "execution_count": 2,
   "metadata": {},
   "outputs": [],
   "source": [
    "from postgres_data_source import PostgresDataSource\n"
   ]
  },
  {
   "cell_type": "code",
   "execution_count": 3,
   "metadata": {},
   "outputs": [
    {
     "name": "stdout",
     "output_type": "stream",
     "text": [
      "0.00012288199999943572\n",
      "3.3137999999155454e-05\n",
      "6.169100000086303e-05\n",
      "6.40660000001958e-05\n",
      "0.00012766100000050074\n",
      "7.296000000067693e-05\n",
      "7.593399999983319e-05\n",
      "5.9139000001096065e-05\n",
      "4.673799999999062e-05\n",
      "5.2675000000945715e-05\n",
      "0.0012816329999996157 0.0007168840000026933\n"
     ]
    }
   ],
   "source": [
    "from postgres_data_source import PostgresDataSource\n",
    "import time\n",
    "workload_spec = {\n",
    "            \"tables\": 'lineitem',\n",
    "            \"scale_factor\": 1 , # TODO specify this somewhere, not just in tpch_util \n",
    "            \"n_selections\": 3\n",
    "        }\n",
    "data_source = PostgresDataSource(workload_spec)\n",
    "dir = \"/Users/wangtaiyi/Documents/Graduate/Cambridge/Research/RL/Learning_Index_Selection/index_Code/Workloadlevel_index_tuning/data/train_workloads\"\n",
    "queries = data_source.import_data(dir,label = \"train\", path=None)\n",
    "start_0 = time.monotonic()\n",
    "run_time_compare = 0\n",
    "workload = queries[0:10]\n",
    "for q in workload:\n",
    "    start = time.monotonic()\n",
    "    query_string, query_string_args = q.sample_query()\n",
    "    query_string = query_string % query_string_args\n",
    "    runtime = time.monotonic() - start\n",
    "    run_time_compare = run_time_compare  + runtime\n",
    "    print(runtime)\n",
    "runtime_total = time.monotonic() - start_0\n",
    "print(runtime_total,run_time_compare )\n",
    "# tokened_w = [row.sample_fn() for row in workload]\n",
    "\n",
    "# tokened_w\n",
    "# print(len(tokened_w))\n",
    "# print(len(list(set(tokened_w))))"
   ]
  },
  {
   "cell_type": "code",
   "execution_count": 110,
   "metadata": {},
   "outputs": [],
   "source": [
    "# workloads = []\n",
    "workloads.append(workload)"
   ]
  },
  {
   "cell_type": "code",
   "execution_count": 111,
   "metadata": {},
   "outputs": [
    {
     "data": {
      "text/plain": [
       "[[<common.sql_query.SQLQuery at 0x7ff15bdd5a50>,\n",
       "  <common.sql_query.SQLQuery at 0x7ff15bf16a10>,\n",
       "  <common.sql_query.SQLQuery at 0x7ff15bddf9d0>,\n",
       "  <common.sql_query.SQLQuery at 0x7ff15bdccb90>,\n",
       "  <common.sql_query.SQLQuery at 0x7ff15bf1f550>,\n",
       "  <common.sql_query.SQLQuery at 0x7ff15bf58210>,\n",
       "  <common.sql_query.SQLQuery at 0x7ff15bf58b90>,\n",
       "  <common.sql_query.SQLQuery at 0x7ff15bf58c10>,\n",
       "  <common.sql_query.SQLQuery at 0x7ff15bf31610>,\n",
       "  <common.sql_query.SQLQuery at 0x7ff15bf31f50>],\n",
       " [<common.sql_query.SQLQuery at 0x7ff15bf3dd10>,\n",
       "  <common.sql_query.SQLQuery at 0x7ff15bf26490>,\n",
       "  <common.sql_query.SQLQuery at 0x7ff15ae4b790>,\n",
       "  <common.sql_query.SQLQuery at 0x7ff15bf31910>,\n",
       "  <common.sql_query.SQLQuery at 0x7ff15bde30d0>,\n",
       "  <common.sql_query.SQLQuery at 0x7ff15bde3dd0>,\n",
       "  <common.sql_query.SQLQuery at 0x7ff15bde3e50>,\n",
       "  <common.sql_query.SQLQuery at 0x7ff15bde3fd0>,\n",
       "  <common.sql_query.SQLQuery at 0x7ff15bf47c50>,\n",
       "  <common.sql_query.SQLQuery at 0x7ff15bf47e90>]]"
      ]
     },
     "execution_count": 111,
     "metadata": {},
     "output_type": "execute_result"
    }
   ],
   "source": [
    "workloads"
   ]
  },
  {
   "cell_type": "code",
   "execution_count": 112,
   "metadata": {},
   "outputs": [],
   "source": [
    "def workload_concat(workload):\n",
    "        \n",
    "    w_0 = workload[0]\n",
    "\n",
    "    for q in workload:\n",
    "        w_0 = w_0+q\n",
    "\n",
    "    return w_0\n",
    "\n",
    "def get_workload_cols(workload):\n",
    "        \n",
    "    query_cols = [query.query_cols for query in workload]\n",
    "    workload_cols = workload_concat(query_cols)\n",
    "    workload_cols = list(set(workload_cols)) \n",
    "\n",
    "    return workload_cols\n",
    "\n",
    "\n",
    "def sort_workload(workloads):\n",
    "    \"\"\" Sort to promote index prefix intersection\"\"\"\n",
    "\n",
    "    new_workloads = []\n",
    "\n",
    "    for workload in workloads:\n",
    "\n",
    "        new_workloads.append(sorted(workload, key=lambda query: len(query.query_cols), reverse=True))\n",
    "\n",
    "\n",
    "    return sorted(workloads, key=lambda workload: get_workload_cols(workload), reverse=True )"
   ]
  },
  {
   "cell_type": "code",
   "execution_count": 113,
   "metadata": {},
   "outputs": [
    {
     "data": {
      "text/plain": [
       "[[<common.sql_query.SQLQuery at 0x7ff15bf3dd10>,\n",
       "  <common.sql_query.SQLQuery at 0x7ff15bf26490>,\n",
       "  <common.sql_query.SQLQuery at 0x7ff15ae4b790>,\n",
       "  <common.sql_query.SQLQuery at 0x7ff15bf31910>,\n",
       "  <common.sql_query.SQLQuery at 0x7ff15bde30d0>,\n",
       "  <common.sql_query.SQLQuery at 0x7ff15bde3dd0>,\n",
       "  <common.sql_query.SQLQuery at 0x7ff15bde3e50>,\n",
       "  <common.sql_query.SQLQuery at 0x7ff15bde3fd0>,\n",
       "  <common.sql_query.SQLQuery at 0x7ff15bf47c50>,\n",
       "  <common.sql_query.SQLQuery at 0x7ff15bf47e90>],\n",
       " [<common.sql_query.SQLQuery at 0x7ff15bdd5a50>,\n",
       "  <common.sql_query.SQLQuery at 0x7ff15bf16a10>,\n",
       "  <common.sql_query.SQLQuery at 0x7ff15bddf9d0>,\n",
       "  <common.sql_query.SQLQuery at 0x7ff15bdccb90>,\n",
       "  <common.sql_query.SQLQuery at 0x7ff15bf1f550>,\n",
       "  <common.sql_query.SQLQuery at 0x7ff15bf58210>,\n",
       "  <common.sql_query.SQLQuery at 0x7ff15bf58b90>,\n",
       "  <common.sql_query.SQLQuery at 0x7ff15bf58c10>,\n",
       "  <common.sql_query.SQLQuery at 0x7ff15bf31610>,\n",
       "  <common.sql_query.SQLQuery at 0x7ff15bf31f50>]]"
      ]
     },
     "execution_count": 113,
     "metadata": {},
     "output_type": "execute_result"
    }
   ],
   "source": [
    "sort_workload(workloads)"
   ]
  },
  {
   "cell_type": "code",
   "execution_count": 106,
   "metadata": {},
   "outputs": [
    {
     "name": "stdout",
     "output_type": "stream",
     "text": [
      "[[7, 8, 9], [4, 5, 6], [1, 2, 3]]\n"
     ]
    }
   ],
   "source": [
    "L = [[1,2,3],[4,5,6],[7,8,9]]\n",
    "def sum(list):\n",
    "    sum = 0\n",
    "    for i in list:\n",
    "        sum = sum + i\n",
    "    return sum\n",
    "\n",
    "print(sorted(L, key=lambda ele: sum(ele),reverse=True))"
   ]
  },
  {
   "cell_type": "code",
   "execution_count": 105,
   "metadata": {},
   "outputs": [
    {
     "name": "stdout",
     "output_type": "stream",
     "text": [
      "True\n"
     ]
    }
   ],
   "source": [
    "list1 = [[1,2,3,4],[5,6,7,8]]\n",
    "list2 = [1,2,3,4]\n",
    "print(list2 in list1)"
   ]
  },
  {
   "cell_type": "code",
   "execution_count": 99,
   "metadata": {},
   "outputs": [
    {
     "name": "stdout",
     "output_type": "stream",
     "text": [
      "and L = 5, S = 6\n"
     ]
    }
   ],
   "source": [
    "print(\"and L = %s, S = %d\"%(5,6))"
   ]
  },
  {
   "cell_type": "code",
   "execution_count": 95,
   "metadata": {},
   "outputs": [
    {
     "data": {
      "text/plain": [
       "[(0, 'COLLECT COD'),\n",
       " ('1997-07-09', 5727),\n",
       " ('nod', '1997-08-17', '1995-08-25'),\n",
       " ('NONE', 0.08910587374574261, 8),\n",
       " (7217, '1995-09-06', '1997-08-05'),\n",
       " ('A', 110007),\n",
       " ('1993-01-08', 111139.12668709802),\n",
       " ('1994-11-12', 1573387, '1997-12-20'),\n",
       " ('furious', 3598486, 'AIR'),\n",
       " (8603, 708895, '1997-06-02')]"
      ]
     },
     "execution_count": 95,
     "metadata": {},
     "output_type": "execute_result"
    }
   ],
   "source": [
    "list(set(tokened_w))"
   ]
  },
  {
   "cell_type": "code",
   "execution_count": 85,
   "metadata": {},
   "outputs": [
    {
     "data": {
      "text/plain": [
       "'lineitemlineitemlineitemlineitemlineitemlineitemlineitemlineitemlineitemlineitemlineitem'"
      ]
     },
     "execution_count": 85,
     "metadata": {},
     "output_type": "execute_result"
    }
   ],
   "source": [
    "a = tokened_w[0]\n",
    "for b in tokened_w:\n",
    "    a = a+b\n",
    "\n",
    "#workload = \"\".join()\n",
    "a\n",
    "#set(a)"
   ]
  },
  {
   "cell_type": "code",
   "execution_count": 115,
   "metadata": {},
   "outputs": [
    {
     "data": {
      "text/plain": [
       "[1, 2, 3, 4, 5, 6, 7, 8]"
      ]
     },
     "execution_count": 115,
     "metadata": {},
     "output_type": "execute_result"
    }
   ],
   "source": [
    "list1 = [1,2,3,4]\n",
    "list2 = [5,6,7,8]\n",
    "list1.extend(list2)\n",
    "list1"
   ]
  },
  {
   "cell_type": "code",
   "execution_count": 117,
   "metadata": {},
   "outputs": [
    {
     "name": "stdout",
     "output_type": "stream",
     "text": [
      "[[1, 2, 3], [2, 2, 2], [3, 3, 3], [4, 4, 4], [5, 5, 5], [6, 6, 6], [7, 7, 7], [8, 8, 8]]\n"
     ]
    }
   ],
   "source": [
    "list1 = []\n",
    "a_1 = [1,2,3,4,5,6,7,8]\n",
    "a_2 = [2,2,3,4,5,6,7,8]\n",
    "a_3 = [3,2,3,4,5,6,7,8]\n",
    "list1.append(a_1)\n",
    "list1.append(a_2)\n",
    "list1.append(a_3)\n",
    "new_list = list(map(list, zip(*list1)))\n",
    "print (list(map(list, zip(*list1))))"
   ]
  },
  {
   "cell_type": "code",
   "execution_count": 120,
   "metadata": {},
   "outputs": [
    {
     "data": {
      "text/plain": [
       "4.0"
      ]
     },
     "execution_count": 120,
     "metadata": {},
     "output_type": "execute_result"
    }
   ],
   "source": [
    "import numpy as np\n",
    "np.mean(new_list[-8:][3])"
   ]
  },
  {
   "cell_type": "code",
   "execution_count": 79,
   "metadata": {},
   "outputs": [
    {
     "data": {
      "text/plain": [
       "{'query_cols': ['L_SHIPDATE',\n",
       "  'L_ORDERKEY',\n",
       "  'L_COMMITDATE',\n",
       "  'L_SHIPDATE',\n",
       "  'L_ORDERKEY',\n",
       "  'L_COMMITDATE',\n",
       "  'L_SHIPINSTRUCT',\n",
       "  'L_DISCOUNT',\n",
       "  'L_QUANTITY',\n",
       "  'L_COMMENT',\n",
       "  'L_ORDERKEY',\n",
       "  'L_SHIPMODE',\n",
       "  'L_RETURNFLAG',\n",
       "  'L_PARTKEY',\n",
       "  'L_COMMENT',\n",
       "  'L_RECEIPTDATE',\n",
       "  'L_SHIPDATE',\n",
       "  'L_SUPPKEY',\n",
       "  'L_COMMITDATE',\n",
       "  'L_RECEIPTDATE',\n",
       "  'L_SUPPKEY',\n",
       "  'L_ORDERKEY',\n",
       "  'L_COMMITDATE',\n",
       "  'L_COMMITDATE',\n",
       "  'L_EXTENDEDPRICE',\n",
       "  'L_LINENUMBER',\n",
       "  'L_SHIPINSTRUCT',\n",
       "  'L_SHIPDATE',\n",
       "  'L_SUPPKEY']}"
      ]
     },
     "execution_count": 79,
     "metadata": {},
     "output_type": "execute_result"
    }
   ],
   "source": [
    "a_dic = dict(query_cols=a)\n",
    "a_dic\n"
   ]
  },
  {
   "cell_type": "code",
   "execution_count": 33,
   "metadata": {},
   "outputs": [],
   "source": [
    "path = \"/Users/wangtaiyi/Documents/Graduate/Cambridge/Research/RL/Learning_Index_Selection/index_Code/query_token_2.txt\"\n",
    "with open(path, 'w', newline='') as f:\n",
    "    for row in workload:\n",
    "        f.writelines(row)\n",
    "        f.write('\\n')"
   ]
  },
  {
   "cell_type": "code",
   "execution_count": 1,
   "metadata": {},
   "outputs": [
    {
     "name": "stderr",
     "output_type": "stream",
     "text": [
      "/Users/wangtaiyi/opt/anaconda3/lib/python3.7/site-packages/sklearn/utils/linear_assignment_.py:22: FutureWarning: The linear_assignment_ module is deprecated in 0.21 and will be removed from 0.23. Use scipy.optimize.linear_sum_assignment instead.\n",
      "  FutureWarning)\n"
     ]
    }
   ],
   "source": [
    "from sklearn.utils.linear_assignment_ import linear_assignment # Hungarian algorithm"
   ]
  },
  {
   "cell_type": "code",
   "execution_count": 5,
   "metadata": {},
   "outputs": [
    {
     "name": "stdout",
     "output_type": "stream",
     "text": [
      "[[0 1]\n",
      " [1 0]\n",
      " [2 2]]\n"
     ]
    },
    {
     "name": "stderr",
     "output_type": "stream",
     "text": [
      "/Users/wangtaiyi/opt/anaconda3/lib/python3.7/site-packages/sklearn/utils/linear_assignment_.py:128: FutureWarning: The linear_assignment function is deprecated in 0.21 and will be removed from 0.23. Use scipy.optimize.linear_sum_assignment instead.\n",
      "  FutureWarning)\n"
     ]
    }
   ],
   "source": [
    "import numpy as np\n",
    "import torch\n",
    "const_matrix = torch.tensor([[15, 40, 45], \n",
    "\t\t\t\t\t\t [20, 60, 35], \n",
    "\t\t\t\t\t\t [20, 40, 25]])\n",
    "print(linear_assignment(const_matrix))"
   ]
  },
  {
   "cell_type": "code",
   "execution_count": 8,
   "metadata": {},
   "outputs": [
    {
     "name": "stdout",
     "output_type": "stream",
     "text": [
      "[[0 1]\n",
      " [1 0]\n",
      " [2 2]]\n"
     ]
    }
   ],
   "source": [
    "from scipy.optimize import linear_sum_assignment\n",
    "match = linear_sum_assignment(const_matrix)\n",
    "print(np.transpose(match))"
   ]
  }
 ],
 "metadata": {
  "interpreter": {
   "hash": "80c18ea57fee6e44f2aaef3eefda70117a758a9dacb0599dde599ed8bf03809a"
  },
  "kernelspec": {
   "display_name": "Python 3.7.12 ('base')",
   "language": "python",
   "name": "python3"
  },
  "language_info": {
   "codemirror_mode": {
    "name": "ipython",
    "version": 3
   },
   "file_extension": ".py",
   "mimetype": "text/x-python",
   "name": "python",
   "nbconvert_exporter": "python",
   "pygments_lexer": "ipython3",
   "version": "3.7.12"
  },
  "orig_nbformat": 4
 },
 "nbformat": 4,
 "nbformat_minor": 2
}
